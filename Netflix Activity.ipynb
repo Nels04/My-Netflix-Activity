{
 "cells": [
  {
   "cell_type": "markdown",
   "metadata": {},
   "source": [
    "# Analyzing my Netflix Activity\n",
    "\n",
    "I am a big fan of the tv show [New Girl](https://en.wikipedia.org/wiki/New_Girl), don't judge me. I like funny sitcom and the show happen to be funny. I can honestly say that it's the show I've watched the most in my Netflix account. I found out via Twitter that Netflix allows its users to download their account data, in that data there's a csv file called ViewingActivity which contains activities of all the profiles in an account. I have 5 profiles in my account, and for this analysis, we are going to focus on my profile named \"nelson\". \n",
    "\n",
    "### Goals: \n",
    " * The main goal of this project is to find out how much time I have spent watching New Girl between 2017-2020.\n",
    " * During which month of which year I've watched New Girl the most(It'll probably be between March and August 2020, covid-19 quarantine).\n",
    " * Which episode I've watched the most?\n",
    " \n",
    " \n",
    "#### Columns:\n",
    " * Profile Name: the name of the profile in which viewing occurred.\n",
    " * Start Time: the UTC date and time viewing started.\n",
    " * Duration: the length of the viewing session.\n",
    " * Attributes: this column shows additional details of interactions with streamed content, where available:\n",
    "       * \"Autoplayed: user action: None\" - means that the viewer did not interact with that TV show or movie.\n",
    "       * \"Autoplayed: user action: Unspecified\" - means that the viewer either interacted with the TV show or movie\n",
    "       * \"Autoplayed: user action: User_Interaction\": means that the viewer interacted with the TV show or movie by \n",
    "       clicking on the video player control. \n",
    "       * \"View was hidden\": indicates that the tv show or movie was marked \"hide from viewing activity\" in account settings\n",
    "       * \"Has branched playback\": means the viewer can make choices during playback to control what happen next.\n",
    " * Title: TV show or movie viewed\n",
    " * Supplemental video type: video other than the actual movie or show, such as trailers or montages. \"N/A\" means not applicable\n",
    " * Device Type: device used to stream the video\n",
    " * Bookmark: the most recent viewing position relative to the total length of the show or movie\n",
    " * Latest Bookmark: Indicate if the bookmark is the most recent viewing position. \"Not latest view\" indicate that the bookmark is no the most recent.\n",
    " * Country: country where the video was viewed.\n",
    " \n",
    "\n",
    "### Exploring the data"
   ]
  },
  {
   "cell_type": "code",
   "execution_count": 1,
   "metadata": {
    "scrolled": true
   },
   "outputs": [
    {
     "name": "stdout",
     "output_type": "stream",
     "text": [
      "(13838, 10)\n"
     ]
    },
    {
     "data": {
      "text/html": [
       "<div>\n",
       "<style scoped>\n",
       "    .dataframe tbody tr th:only-of-type {\n",
       "        vertical-align: middle;\n",
       "    }\n",
       "\n",
       "    .dataframe tbody tr th {\n",
       "        vertical-align: top;\n",
       "    }\n",
       "\n",
       "    .dataframe thead th {\n",
       "        text-align: right;\n",
       "    }\n",
       "</style>\n",
       "<table border=\"1\" class=\"dataframe\">\n",
       "  <thead>\n",
       "    <tr style=\"text-align: right;\">\n",
       "      <th></th>\n",
       "      <th>Profile Name</th>\n",
       "      <th>Start Time</th>\n",
       "      <th>Duration</th>\n",
       "      <th>Attributes</th>\n",
       "      <th>Title</th>\n",
       "      <th>Supplemental Video Type</th>\n",
       "      <th>Device Type</th>\n",
       "      <th>Bookmark</th>\n",
       "      <th>Latest Bookmark</th>\n",
       "      <th>Country</th>\n",
       "    </tr>\n",
       "  </thead>\n",
       "  <tbody>\n",
       "    <tr>\n",
       "      <th>0</th>\n",
       "      <td>muanango</td>\n",
       "      <td>2020-11-07 11:34:05</td>\n",
       "      <td>00:00:20</td>\n",
       "      <td>Autoplayed: user action: None;</td>\n",
       "      <td>Trailer: Citation</td>\n",
       "      <td>TRAILER</td>\n",
       "      <td>Chrome PC (Cadmium)</td>\n",
       "      <td>00:00:20</td>\n",
       "      <td>00:00:20</td>\n",
       "      <td>CD (Congo, The Democratic Republic of the)</td>\n",
       "    </tr>\n",
       "    <tr>\n",
       "      <th>1</th>\n",
       "      <td>muanango</td>\n",
       "      <td>2020-11-07 11:33:09</td>\n",
       "      <td>00:00:12</td>\n",
       "      <td>Autoplayed: user action: None;</td>\n",
       "      <td>Resurrection: Ertuğrul: Season 1_hook_primary_...</td>\n",
       "      <td>HOOK</td>\n",
       "      <td>Chrome PC (Cadmium)</td>\n",
       "      <td>00:00:12</td>\n",
       "      <td>00:00:12</td>\n",
       "      <td>CD (Congo, The Democratic Republic of the)</td>\n",
       "    </tr>\n",
       "    <tr>\n",
       "      <th>2</th>\n",
       "      <td>muanango</td>\n",
       "      <td>2020-11-07 10:58:08</td>\n",
       "      <td>00:31:09</td>\n",
       "      <td>NaN</td>\n",
       "      <td>Spartacus: War of the Damned: Victory (Episode...</td>\n",
       "      <td>NaN</td>\n",
       "      <td>Chrome PC (Cadmium)</td>\n",
       "      <td>00:57:24</td>\n",
       "      <td>00:57:24</td>\n",
       "      <td>CD (Congo, The Democratic Republic of the)</td>\n",
       "    </tr>\n",
       "    <tr>\n",
       "      <th>3</th>\n",
       "      <td>muanango</td>\n",
       "      <td>2020-11-07 10:55:05</td>\n",
       "      <td>00:01:32</td>\n",
       "      <td>Autoplayed: user action: None;</td>\n",
       "      <td>Trailer: Citation</td>\n",
       "      <td>TRAILER</td>\n",
       "      <td>Chrome PC (Cadmium)</td>\n",
       "      <td>00:00:00</td>\n",
       "      <td>Not latest view</td>\n",
       "      <td>CD (Congo, The Democratic Republic of the)</td>\n",
       "    </tr>\n",
       "    <tr>\n",
       "      <th>4</th>\n",
       "      <td>fatuma</td>\n",
       "      <td>2020-11-07 07:08:58</td>\n",
       "      <td>00:00:09</td>\n",
       "      <td>Autoplayed: user action: None;</td>\n",
       "      <td>The Parkers: Season 1_hook_primary_16x9</td>\n",
       "      <td>HOOK</td>\n",
       "      <td>Samsung CE 2019 Muse-M RU8000 5.1 Smart TV</td>\n",
       "      <td>00:00:09</td>\n",
       "      <td>00:00:09</td>\n",
       "      <td>US (United States)</td>\n",
       "    </tr>\n",
       "  </tbody>\n",
       "</table>\n",
       "</div>"
      ],
      "text/plain": [
       "  Profile Name           Start Time  Duration  \\\n",
       "0     muanango  2020-11-07 11:34:05  00:00:20   \n",
       "1     muanango  2020-11-07 11:33:09  00:00:12   \n",
       "2     muanango  2020-11-07 10:58:08  00:31:09   \n",
       "3     muanango  2020-11-07 10:55:05  00:01:32   \n",
       "4       fatuma  2020-11-07 07:08:58  00:00:09   \n",
       "\n",
       "                        Attributes  \\\n",
       "0  Autoplayed: user action: None;    \n",
       "1  Autoplayed: user action: None;    \n",
       "2                              NaN   \n",
       "3  Autoplayed: user action: None;    \n",
       "4  Autoplayed: user action: None;    \n",
       "\n",
       "                                               Title Supplemental Video Type  \\\n",
       "0                                  Trailer: Citation                 TRAILER   \n",
       "1  Resurrection: Ertuğrul: Season 1_hook_primary_...                    HOOK   \n",
       "2  Spartacus: War of the Damned: Victory (Episode...                     NaN   \n",
       "3                                  Trailer: Citation                 TRAILER   \n",
       "4            The Parkers: Season 1_hook_primary_16x9                    HOOK   \n",
       "\n",
       "                                  Device Type  Bookmark  Latest Bookmark  \\\n",
       "0                         Chrome PC (Cadmium)  00:00:20         00:00:20   \n",
       "1                         Chrome PC (Cadmium)  00:00:12         00:00:12   \n",
       "2                         Chrome PC (Cadmium)  00:57:24         00:57:24   \n",
       "3                         Chrome PC (Cadmium)  00:00:00  Not latest view   \n",
       "4  Samsung CE 2019 Muse-M RU8000 5.1 Smart TV  00:00:09         00:00:09   \n",
       "\n",
       "                                      Country  \n",
       "0  CD (Congo, The Democratic Republic of the)  \n",
       "1  CD (Congo, The Democratic Republic of the)  \n",
       "2  CD (Congo, The Democratic Republic of the)  \n",
       "3  CD (Congo, The Democratic Republic of the)  \n",
       "4                          US (United States)  "
      ]
     },
     "execution_count": 1,
     "metadata": {},
     "output_type": "execute_result"
    }
   ],
   "source": [
    "import pandas as pd\n",
    "import numpy as np\n",
    "\n",
    "my_netflix_activity = pd.read_csv(r'C:\\Users\\nelso\\Desktop\\My Datasets Project\\Netflix\\Content_Interaction\\ViewingActivity.csv')\n",
    "print(my_netflix_activity.shape)\n",
    "my_netflix_activity.head()"
   ]
  },
  {
   "cell_type": "markdown",
   "metadata": {},
   "source": [
    "We can see that the data has 13838 rows and 10 columns. \n",
    "\n",
    "This Netflix account has 5 profiles, as I said ealier we are going to focus only on my profile \"Nelson\"(I own the account and they don't even chip in). I'll save all of Nelson's activities in a separate variable. "
   ]
  },
  {
   "cell_type": "code",
   "execution_count": 2,
   "metadata": {},
   "outputs": [
    {
     "data": {
      "text/plain": [
       "array(['muanango', 'fatuma', 'Nelson', 'Fun Guy', 'Jacques'], dtype=object)"
      ]
     },
     "execution_count": 2,
     "metadata": {},
     "output_type": "execute_result"
    }
   ],
   "source": [
    "#focus on the profile named Nelson\n",
    "\n",
    "my_netflix_activity[\"Profile Name\"].unique()"
   ]
  },
  {
   "cell_type": "code",
   "execution_count": 3,
   "metadata": {},
   "outputs": [
    {
     "name": "stdout",
     "output_type": "stream",
     "text": [
      "(5928, 10)\n"
     ]
    },
    {
     "data": {
      "text/html": [
       "<div>\n",
       "<style scoped>\n",
       "    .dataframe tbody tr th:only-of-type {\n",
       "        vertical-align: middle;\n",
       "    }\n",
       "\n",
       "    .dataframe tbody tr th {\n",
       "        vertical-align: top;\n",
       "    }\n",
       "\n",
       "    .dataframe thead th {\n",
       "        text-align: right;\n",
       "    }\n",
       "</style>\n",
       "<table border=\"1\" class=\"dataframe\">\n",
       "  <thead>\n",
       "    <tr style=\"text-align: right;\">\n",
       "      <th></th>\n",
       "      <th>Profile Name</th>\n",
       "      <th>Start Time</th>\n",
       "      <th>Duration</th>\n",
       "      <th>Attributes</th>\n",
       "      <th>Title</th>\n",
       "      <th>Supplemental Video Type</th>\n",
       "      <th>Device Type</th>\n",
       "      <th>Bookmark</th>\n",
       "      <th>Latest Bookmark</th>\n",
       "      <th>Country</th>\n",
       "    </tr>\n",
       "  </thead>\n",
       "  <tbody>\n",
       "    <tr>\n",
       "      <th>0</th>\n",
       "      <td>Nelson</td>\n",
       "      <td>2020-11-07 05:42:19</td>\n",
       "      <td>00:21:10</td>\n",
       "      <td>Autoplayed: user action: Unspecified;</td>\n",
       "      <td>The Office (U.S.): Season 2: The Client (Episo...</td>\n",
       "      <td>NaN</td>\n",
       "      <td>Comcast X1 ARM 4K MVPD STB</td>\n",
       "      <td>00:21:07</td>\n",
       "      <td>00:21:07</td>\n",
       "      <td>US (United States)</td>\n",
       "    </tr>\n",
       "    <tr>\n",
       "      <th>1</th>\n",
       "      <td>Nelson</td>\n",
       "      <td>2020-11-07 05:07:50</td>\n",
       "      <td>00:21:05</td>\n",
       "      <td>Autoplayed: user action: Unspecified;</td>\n",
       "      <td>The Office (U.S.): Season 2: The Fight (Episod...</td>\n",
       "      <td>NaN</td>\n",
       "      <td>Comcast X1 ARM 4K MVPD STB</td>\n",
       "      <td>00:21:29</td>\n",
       "      <td>00:21:29</td>\n",
       "      <td>US (United States)</td>\n",
       "    </tr>\n",
       "    <tr>\n",
       "      <th>2</th>\n",
       "      <td>Nelson</td>\n",
       "      <td>2020-11-07 04:26:37</td>\n",
       "      <td>00:21:06</td>\n",
       "      <td>Autoplayed: user action: Unspecified;</td>\n",
       "      <td>The Office (U.S.): Season 2: Halloween (Episod...</td>\n",
       "      <td>NaN</td>\n",
       "      <td>Comcast X1 ARM 4K MVPD STB</td>\n",
       "      <td>00:21:31</td>\n",
       "      <td>00:21:31</td>\n",
       "      <td>US (United States)</td>\n",
       "    </tr>\n",
       "    <tr>\n",
       "      <th>3</th>\n",
       "      <td>Nelson</td>\n",
       "      <td>2020-11-07 04:23:38</td>\n",
       "      <td>00:00:53</td>\n",
       "      <td>Autoplayed: user action: Unspecified;</td>\n",
       "      <td>Vampires: Season 1: I'm a Monster (Episode 2)</td>\n",
       "      <td>NaN</td>\n",
       "      <td>Comcast X1 ARM 4K MVPD STB</td>\n",
       "      <td>00:12:27</td>\n",
       "      <td>00:12:27</td>\n",
       "      <td>US (United States)</td>\n",
       "    </tr>\n",
       "    <tr>\n",
       "      <th>4</th>\n",
       "      <td>Nelson</td>\n",
       "      <td>2020-11-07 03:35:38</td>\n",
       "      <td>00:22:33</td>\n",
       "      <td>Autoplayed: user action: None;</td>\n",
       "      <td>Beowulf</td>\n",
       "      <td>NaN</td>\n",
       "      <td>Comcast X1 ARM 4K MVPD STB</td>\n",
       "      <td>00:22:33</td>\n",
       "      <td>00:22:33</td>\n",
       "      <td>US (United States)</td>\n",
       "    </tr>\n",
       "  </tbody>\n",
       "</table>\n",
       "</div>"
      ],
      "text/plain": [
       "  Profile Name           Start Time  Duration  \\\n",
       "0       Nelson  2020-11-07 05:42:19  00:21:10   \n",
       "1       Nelson  2020-11-07 05:07:50  00:21:05   \n",
       "2       Nelson  2020-11-07 04:26:37  00:21:06   \n",
       "3       Nelson  2020-11-07 04:23:38  00:00:53   \n",
       "4       Nelson  2020-11-07 03:35:38  00:22:33   \n",
       "\n",
       "                               Attributes  \\\n",
       "0  Autoplayed: user action: Unspecified;    \n",
       "1  Autoplayed: user action: Unspecified;    \n",
       "2  Autoplayed: user action: Unspecified;    \n",
       "3  Autoplayed: user action: Unspecified;    \n",
       "4         Autoplayed: user action: None;    \n",
       "\n",
       "                                               Title Supplemental Video Type  \\\n",
       "0  The Office (U.S.): Season 2: The Client (Episo...                     NaN   \n",
       "1  The Office (U.S.): Season 2: The Fight (Episod...                     NaN   \n",
       "2  The Office (U.S.): Season 2: Halloween (Episod...                     NaN   \n",
       "3      Vampires: Season 1: I'm a Monster (Episode 2)                     NaN   \n",
       "4                                            Beowulf                     NaN   \n",
       "\n",
       "                  Device Type  Bookmark Latest Bookmark             Country  \n",
       "0  Comcast X1 ARM 4K MVPD STB  00:21:07        00:21:07  US (United States)  \n",
       "1  Comcast X1 ARM 4K MVPD STB  00:21:29        00:21:29  US (United States)  \n",
       "2  Comcast X1 ARM 4K MVPD STB  00:21:31        00:21:31  US (United States)  \n",
       "3  Comcast X1 ARM 4K MVPD STB  00:12:27        00:12:27  US (United States)  \n",
       "4  Comcast X1 ARM 4K MVPD STB  00:22:33        00:22:33  US (United States)  "
      ]
     },
     "execution_count": 3,
     "metadata": {},
     "output_type": "execute_result"
    }
   ],
   "source": [
    "nelson_netflix = my_netflix_activity[my_netflix_activity[\"Profile Name\"] == \"Nelson\"]\n",
    "nelson_netflix.reset_index(inplace=True, drop=True)\n",
    "print(nelson_netflix.shape)\n",
    "nelson_netflix.head()"
   ]
  },
  {
   "cell_type": "markdown",
   "metadata": {},
   "source": [
    "Now we are left with 5928 rows.\n",
    "\n",
    "### Dropping unnecessary columns\n",
    "\n",
    "For the purpose of this project we are going to drop columns that we are not going to use. We'll only focus on 'Start Time', 'Duration', and 'Title'. "
   ]
  },
  {
   "cell_type": "code",
   "execution_count": 4,
   "metadata": {},
   "outputs": [
    {
     "data": {
      "text/html": [
       "<div>\n",
       "<style scoped>\n",
       "    .dataframe tbody tr th:only-of-type {\n",
       "        vertical-align: middle;\n",
       "    }\n",
       "\n",
       "    .dataframe tbody tr th {\n",
       "        vertical-align: top;\n",
       "    }\n",
       "\n",
       "    .dataframe thead th {\n",
       "        text-align: right;\n",
       "    }\n",
       "</style>\n",
       "<table border=\"1\" class=\"dataframe\">\n",
       "  <thead>\n",
       "    <tr style=\"text-align: right;\">\n",
       "      <th></th>\n",
       "      <th>Start Time</th>\n",
       "      <th>Duration</th>\n",
       "      <th>Title</th>\n",
       "    </tr>\n",
       "  </thead>\n",
       "  <tbody>\n",
       "    <tr>\n",
       "      <th>0</th>\n",
       "      <td>2020-11-07 05:42:19</td>\n",
       "      <td>00:21:10</td>\n",
       "      <td>The Office (U.S.): Season 2: The Client (Episo...</td>\n",
       "    </tr>\n",
       "    <tr>\n",
       "      <th>1</th>\n",
       "      <td>2020-11-07 05:07:50</td>\n",
       "      <td>00:21:05</td>\n",
       "      <td>The Office (U.S.): Season 2: The Fight (Episod...</td>\n",
       "    </tr>\n",
       "    <tr>\n",
       "      <th>2</th>\n",
       "      <td>2020-11-07 04:26:37</td>\n",
       "      <td>00:21:06</td>\n",
       "      <td>The Office (U.S.): Season 2: Halloween (Episod...</td>\n",
       "    </tr>\n",
       "    <tr>\n",
       "      <th>3</th>\n",
       "      <td>2020-11-07 04:23:38</td>\n",
       "      <td>00:00:53</td>\n",
       "      <td>Vampires: Season 1: I'm a Monster (Episode 2)</td>\n",
       "    </tr>\n",
       "    <tr>\n",
       "      <th>4</th>\n",
       "      <td>2020-11-07 03:35:38</td>\n",
       "      <td>00:22:33</td>\n",
       "      <td>Beowulf</td>\n",
       "    </tr>\n",
       "  </tbody>\n",
       "</table>\n",
       "</div>"
      ],
      "text/plain": [
       "            Start Time  Duration  \\\n",
       "0  2020-11-07 05:42:19  00:21:10   \n",
       "1  2020-11-07 05:07:50  00:21:05   \n",
       "2  2020-11-07 04:26:37  00:21:06   \n",
       "3  2020-11-07 04:23:38  00:00:53   \n",
       "4  2020-11-07 03:35:38  00:22:33   \n",
       "\n",
       "                                               Title  \n",
       "0  The Office (U.S.): Season 2: The Client (Episo...  \n",
       "1  The Office (U.S.): Season 2: The Fight (Episod...  \n",
       "2  The Office (U.S.): Season 2: Halloween (Episod...  \n",
       "3      Vampires: Season 1: I'm a Monster (Episode 2)  \n",
       "4                                            Beowulf  "
      ]
     },
     "execution_count": 4,
     "metadata": {},
     "output_type": "execute_result"
    }
   ],
   "source": [
    "my_account = nelson_netflix.drop([\"Profile Name\", \"Attributes\", \"Supplemental Video Type\", \"Device Type\", \"Bookmark\", \"Latest Bookmark\", \"Country\"], axis = 1)\n",
    "my_account.head()"
   ]
  },
  {
   "cell_type": "markdown",
   "metadata": {},
   "source": [
    "### Titles\n",
    "\n",
    "One thing I notice is that the titles are very specific for tv shows. If you look at the example above, \"The Office\" is a tv show and its title include: main title, season number, and the episode title. So for the purpose of this project, we'll extract all the titles that include the words \"New Girl\" and forget about the rest."
   ]
  },
  {
   "cell_type": "code",
   "execution_count": 5,
   "metadata": {},
   "outputs": [
    {
     "name": "stdout",
     "output_type": "stream",
     "text": [
      "(1344, 3)\n"
     ]
    },
    {
     "data": {
      "text/html": [
       "<div>\n",
       "<style scoped>\n",
       "    .dataframe tbody tr th:only-of-type {\n",
       "        vertical-align: middle;\n",
       "    }\n",
       "\n",
       "    .dataframe tbody tr th {\n",
       "        vertical-align: top;\n",
       "    }\n",
       "\n",
       "    .dataframe thead th {\n",
       "        text-align: right;\n",
       "    }\n",
       "</style>\n",
       "<table border=\"1\" class=\"dataframe\">\n",
       "  <thead>\n",
       "    <tr style=\"text-align: right;\">\n",
       "      <th></th>\n",
       "      <th>Start Time</th>\n",
       "      <th>Duration</th>\n",
       "      <th>Title</th>\n",
       "    </tr>\n",
       "  </thead>\n",
       "  <tbody>\n",
       "    <tr>\n",
       "      <th>0</th>\n",
       "      <td>2020-11-05 16:33:49</td>\n",
       "      <td>00:02:28</td>\n",
       "      <td>New Girl: Season 7: Mario (Episode 6)</td>\n",
       "    </tr>\n",
       "    <tr>\n",
       "      <th>1</th>\n",
       "      <td>2020-11-05 16:11:59</td>\n",
       "      <td>00:21:47</td>\n",
       "      <td>New Girl: Season 7: Godparents (Episode 5)</td>\n",
       "    </tr>\n",
       "    <tr>\n",
       "      <th>2</th>\n",
       "      <td>2020-11-05 16:11:47</td>\n",
       "      <td>00:00:01</td>\n",
       "      <td>New Girl: Season 7: Engram Pattersky (Episode 8)</td>\n",
       "    </tr>\n",
       "    <tr>\n",
       "      <th>3</th>\n",
       "      <td>2020-11-04 10:19:26</td>\n",
       "      <td>00:00:03</td>\n",
       "      <td>New Girl: Season 7: Engram Pattersky (Episode 8)</td>\n",
       "    </tr>\n",
       "    <tr>\n",
       "      <th>4</th>\n",
       "      <td>2020-11-04 09:57:40</td>\n",
       "      <td>00:21:43</td>\n",
       "      <td>New Girl: Season 7: The Curse of the Pirate Br...</td>\n",
       "    </tr>\n",
       "  </tbody>\n",
       "</table>\n",
       "</div>"
      ],
      "text/plain": [
       "            Start Time  Duration  \\\n",
       "0  2020-11-05 16:33:49  00:02:28   \n",
       "1  2020-11-05 16:11:59  00:21:47   \n",
       "2  2020-11-05 16:11:47  00:00:01   \n",
       "3  2020-11-04 10:19:26  00:00:03   \n",
       "4  2020-11-04 09:57:40  00:21:43   \n",
       "\n",
       "                                               Title  \n",
       "0              New Girl: Season 7: Mario (Episode 6)  \n",
       "1         New Girl: Season 7: Godparents (Episode 5)  \n",
       "2   New Girl: Season 7: Engram Pattersky (Episode 8)  \n",
       "3   New Girl: Season 7: Engram Pattersky (Episode 8)  \n",
       "4  New Girl: Season 7: The Curse of the Pirate Br...  "
      ]
     },
     "execution_count": 5,
     "metadata": {},
     "output_type": "execute_result"
    }
   ],
   "source": [
    "new_girl_view = my_account[my_account[\"Title\"].str.contains(\"New Girl\", regex=False)]\n",
    "new_girl_view.reset_index(inplace=True, drop=True)\n",
    "print(new_girl_view.shape)\n",
    "new_girl_view.head()"
   ]
  },
  {
   "cell_type": "markdown",
   "metadata": {},
   "source": [
    "### Converting string dates to Datetime and timedelta\n",
    "\n",
    "We are left with 1344 rows and 3 columns. The 'Start Time' and 'Duration' column have data stored as objects which means they're strings. We can't do any sort of time calculation with strings, so we have to convert those two columns into the proper format. Also, we need to convert times stored in 'Start Time' from UTC to my timezone(Eastern Time).\n",
    "\n",
    " * Convert Start Time to datetime (a data and time format pandas can understand and perform calculations with)\n",
    " * Convert Start Time from UTC to our local timezone\n",
    " * Convert Duration to timedelta (a time duration format pandas can understand and perform calculations with)"
   ]
  },
  {
   "cell_type": "code",
   "execution_count": 6,
   "metadata": {},
   "outputs": [
    {
     "data": {
      "text/plain": [
       "Start Time    object\n",
       "Duration      object\n",
       "Title         object\n",
       "dtype: object"
      ]
     },
     "execution_count": 6,
     "metadata": {},
     "output_type": "execute_result"
    }
   ],
   "source": [
    "new_girl_view.dtypes"
   ]
  },
  {
   "cell_type": "code",
   "execution_count": 7,
   "metadata": {},
   "outputs": [],
   "source": [
    "import datetime as dt\n",
    "pd.reset_option('mode.chained_assignment')\n",
    "with pd.option_context('mode.chained_assignment', None):\n",
    "    new_girl_view[\"Start Time\"] = pd.to_datetime(new_girl_view[\"Start Time\"], utc=True)"
   ]
  },
  {
   "cell_type": "code",
   "execution_count": 8,
   "metadata": {},
   "outputs": [
    {
     "name": "stdout",
     "output_type": "stream",
     "text": [
      "Start Time    datetime64[ns, US/Eastern]\n",
      "Duration                 timedelta64[ns]\n",
      "Title                             object\n",
      "dtype: object\n"
     ]
    },
    {
     "data": {
      "text/html": [
       "<div>\n",
       "<style scoped>\n",
       "    .dataframe tbody tr th:only-of-type {\n",
       "        vertical-align: middle;\n",
       "    }\n",
       "\n",
       "    .dataframe tbody tr th {\n",
       "        vertical-align: top;\n",
       "    }\n",
       "\n",
       "    .dataframe thead th {\n",
       "        text-align: right;\n",
       "    }\n",
       "</style>\n",
       "<table border=\"1\" class=\"dataframe\">\n",
       "  <thead>\n",
       "    <tr style=\"text-align: right;\">\n",
       "      <th></th>\n",
       "      <th>Start Time</th>\n",
       "      <th>Duration</th>\n",
       "      <th>Title</th>\n",
       "    </tr>\n",
       "  </thead>\n",
       "  <tbody>\n",
       "    <tr>\n",
       "      <th>0</th>\n",
       "      <td>2020-11-05 11:33:49-05:00</td>\n",
       "      <td>00:02:28</td>\n",
       "      <td>New Girl: Season 7: Mario (Episode 6)</td>\n",
       "    </tr>\n",
       "    <tr>\n",
       "      <th>1</th>\n",
       "      <td>2020-11-05 11:11:59-05:00</td>\n",
       "      <td>00:21:47</td>\n",
       "      <td>New Girl: Season 7: Godparents (Episode 5)</td>\n",
       "    </tr>\n",
       "    <tr>\n",
       "      <th>2</th>\n",
       "      <td>2020-11-05 11:11:47-05:00</td>\n",
       "      <td>00:00:01</td>\n",
       "      <td>New Girl: Season 7: Engram Pattersky (Episode 8)</td>\n",
       "    </tr>\n",
       "    <tr>\n",
       "      <th>3</th>\n",
       "      <td>2020-11-04 05:19:26-05:00</td>\n",
       "      <td>00:00:03</td>\n",
       "      <td>New Girl: Season 7: Engram Pattersky (Episode 8)</td>\n",
       "    </tr>\n",
       "    <tr>\n",
       "      <th>4</th>\n",
       "      <td>2020-11-04 04:57:40-05:00</td>\n",
       "      <td>00:21:43</td>\n",
       "      <td>New Girl: Season 7: The Curse of the Pirate Br...</td>\n",
       "    </tr>\n",
       "  </tbody>\n",
       "</table>\n",
       "</div>"
      ],
      "text/plain": [
       "                 Start Time Duration  \\\n",
       "0 2020-11-05 11:33:49-05:00 00:02:28   \n",
       "1 2020-11-05 11:11:59-05:00 00:21:47   \n",
       "2 2020-11-05 11:11:47-05:00 00:00:01   \n",
       "3 2020-11-04 05:19:26-05:00 00:00:03   \n",
       "4 2020-11-04 04:57:40-05:00 00:21:43   \n",
       "\n",
       "                                               Title  \n",
       "0              New Girl: Season 7: Mario (Episode 6)  \n",
       "1         New Girl: Season 7: Godparents (Episode 5)  \n",
       "2   New Girl: Season 7: Engram Pattersky (Episode 8)  \n",
       "3   New Girl: Season 7: Engram Pattersky (Episode 8)  \n",
       "4  New Girl: Season 7: The Curse of the Pirate Br...  "
      ]
     },
     "execution_count": 8,
     "metadata": {},
     "output_type": "execute_result"
    }
   ],
   "source": [
    "# converting from UTC to Eastern Time\n",
    "new_girl_view = new_girl_view.set_index('Start Time')\n",
    "new_girl_view.index = new_girl_view.index.tz_convert(\"US/Eastern\")\n",
    "new_girl_view = new_girl_view.reset_index()\n",
    "\n",
    "# converting Duration to timedelta\n",
    "new_girl_view[\"Duration\"] = pd.to_timedelta(new_girl_view[\"Duration\"])\n",
    "\n",
    "print(new_girl_view.dtypes)\n",
    "new_girl_view.head()"
   ]
  },
  {
   "cell_type": "markdown",
   "metadata": {},
   "source": [
    "We can see this is correct because the previous first row in our dataset had a Start Time of **2020-11-05 16:33:49**. During Daylight Savings Time, the U.S. Eastern time zone is four hours behind UTC, so we can see that our conversion has happened correctly! We also converted Duration from string to timedelta\n",
    "\n",
    "### Filtering out very short durations\n",
    "\n",
    "As you can see below, we also noticed that there are durations of one second or less than a minute. That is because of the auto-play when you hover over a vidoe in Netflix, like a preview. We are going to filter our data and only keep videos watched for 1 minute or more."
   ]
  },
  {
   "cell_type": "code",
   "execution_count": 9,
   "metadata": {},
   "outputs": [
    {
     "data": {
      "text/html": [
       "<div>\n",
       "<style scoped>\n",
       "    .dataframe tbody tr th:only-of-type {\n",
       "        vertical-align: middle;\n",
       "    }\n",
       "\n",
       "    .dataframe tbody tr th {\n",
       "        vertical-align: top;\n",
       "    }\n",
       "\n",
       "    .dataframe thead th {\n",
       "        text-align: right;\n",
       "    }\n",
       "</style>\n",
       "<table border=\"1\" class=\"dataframe\">\n",
       "  <thead>\n",
       "    <tr style=\"text-align: right;\">\n",
       "      <th></th>\n",
       "      <th>Start Time</th>\n",
       "      <th>Duration</th>\n",
       "      <th>Title</th>\n",
       "    </tr>\n",
       "  </thead>\n",
       "  <tbody>\n",
       "    <tr>\n",
       "      <th>2</th>\n",
       "      <td>2020-11-05 11:11:47-05:00</td>\n",
       "      <td>00:00:01</td>\n",
       "      <td>New Girl: Season 7: Engram Pattersky (Episode 8)</td>\n",
       "    </tr>\n",
       "    <tr>\n",
       "      <th>13</th>\n",
       "      <td>2020-10-29 09:38:18-04:00</td>\n",
       "      <td>00:00:01</td>\n",
       "      <td>New Girl: Season 2: Tinfinity (Episode 18)</td>\n",
       "    </tr>\n",
       "    <tr>\n",
       "      <th>22</th>\n",
       "      <td>2020-10-26 18:08:39-04:00</td>\n",
       "      <td>00:00:01</td>\n",
       "      <td>New Girl: Season 2: A Father's Love (Episode 13)</td>\n",
       "    </tr>\n",
       "    <tr>\n",
       "      <th>74</th>\n",
       "      <td>2020-09-29 23:53:20-04:00</td>\n",
       "      <td>00:00:01</td>\n",
       "      <td>New Girl: Season 4: Teachers (Episode 8)</td>\n",
       "    </tr>\n",
       "    <tr>\n",
       "      <th>191</th>\n",
       "      <td>2020-08-12 06:36:57-04:00</td>\n",
       "      <td>00:00:01</td>\n",
       "      <td>New Girl: Season 3: Menus (Episode 8)</td>\n",
       "    </tr>\n",
       "  </tbody>\n",
       "</table>\n",
       "</div>"
      ],
      "text/plain": [
       "                   Start Time Duration  \\\n",
       "2   2020-11-05 11:11:47-05:00 00:00:01   \n",
       "13  2020-10-29 09:38:18-04:00 00:00:01   \n",
       "22  2020-10-26 18:08:39-04:00 00:00:01   \n",
       "74  2020-09-29 23:53:20-04:00 00:00:01   \n",
       "191 2020-08-12 06:36:57-04:00 00:00:01   \n",
       "\n",
       "                                                Title  \n",
       "2    New Girl: Season 7: Engram Pattersky (Episode 8)  \n",
       "13         New Girl: Season 2: Tinfinity (Episode 18)  \n",
       "22   New Girl: Season 2: A Father's Love (Episode 13)  \n",
       "74           New Girl: Season 4: Teachers (Episode 8)  \n",
       "191             New Girl: Season 3: Menus (Episode 8)  "
      ]
     },
     "execution_count": 9,
     "metadata": {},
     "output_type": "execute_result"
    }
   ],
   "source": [
    "new_girl_view[new_girl_view[\"Duration\"] == \"0 days 00:00:01\"][:5]"
   ]
  },
  {
   "cell_type": "code",
   "execution_count": 10,
   "metadata": {},
   "outputs": [
    {
     "data": {
      "text/plain": [
       "(1162, 3)"
      ]
     },
     "execution_count": 10,
     "metadata": {},
     "output_type": "execute_result"
    }
   ],
   "source": [
    "# filtering out short videos\n",
    "\n",
    "my_views = new_girl_view[new_girl_view[\"Duration\"] >= \"0 days 00:01:00\"]\n",
    "my_views.shape"
   ]
  },
  {
   "cell_type": "markdown",
   "metadata": {},
   "source": [
    "### Analyzing the data\n",
    "\n",
    "##### How much time I have spent watching New Girl?"
   ]
  },
  {
   "cell_type": "code",
   "execution_count": 11,
   "metadata": {},
   "outputs": [
    {
     "data": {
      "text/plain": [
       "Timedelta('12 days 19:20:35')"
      ]
     },
     "execution_count": 11,
     "metadata": {},
     "output_type": "execute_result"
    }
   ],
   "source": [
    "my_views[\"Duration\"].sum()"
   ]
  },
  {
   "cell_type": "markdown",
   "metadata": {},
   "source": [
    "I've spent a total of 12 days, 19hrs watching New Girl. I was expecting more. Keep in mind one episode last around 20-22 minutes and there are 6 seasons of 20+ episodes and 1 seasons of 7 episodes. Looks like I'm not obsessed as I thought I was. I was expecting more because it is the only show in Netflix that I keep re-watching. \n",
    "\n",
    "### When Do I watch New Girl?\n",
    "\n",
    " * On which day of the week do I watch the most?\n",
    " * During which hour of the day do I watch the most?\n",
    " \n",
    "We'll focus on the \"Start Time\" column. Extract the days and hours and stored them into two columns named \"weekday\" and \"hour\". We'll use datetime.weekday and datetime.hour to extract those values. Using datetime.weekday will give us the number corresponding to the day of the week. So 1 will for Monday and so on...We'll convert the numbers to the names of the days(Monday,Tuesday...)"
   ]
  },
  {
   "cell_type": "code",
   "execution_count": 12,
   "metadata": {},
   "outputs": [],
   "source": [
    "pd.reset_option('mode.chained_assignment')\n",
    "with pd.option_context('mode.chained_assignment', None):\n",
    "    my_views[\"Weekday\"] = my_views[\"Start Time\"].dt.weekday\n",
    "    my_views[\"hour\"] = my_views[\"Start Time\"].dt.hour\n",
    "    my_views[\"month\"] = my_views[\"Start Time\"].dt.month\n",
    "    my_views[\"year\"] = my_views[\"Start Time\"].dt.year"
   ]
  },
  {
   "cell_type": "code",
   "execution_count": 13,
   "metadata": {},
   "outputs": [
    {
     "data": {
      "text/html": [
       "<div>\n",
       "<style scoped>\n",
       "    .dataframe tbody tr th:only-of-type {\n",
       "        vertical-align: middle;\n",
       "    }\n",
       "\n",
       "    .dataframe tbody tr th {\n",
       "        vertical-align: top;\n",
       "    }\n",
       "\n",
       "    .dataframe thead th {\n",
       "        text-align: right;\n",
       "    }\n",
       "</style>\n",
       "<table border=\"1\" class=\"dataframe\">\n",
       "  <thead>\n",
       "    <tr style=\"text-align: right;\">\n",
       "      <th></th>\n",
       "      <th>Start Time</th>\n",
       "      <th>Duration</th>\n",
       "      <th>Title</th>\n",
       "      <th>Weekday</th>\n",
       "      <th>hour</th>\n",
       "      <th>month</th>\n",
       "      <th>year</th>\n",
       "    </tr>\n",
       "  </thead>\n",
       "  <tbody>\n",
       "    <tr>\n",
       "      <th>0</th>\n",
       "      <td>2020-11-05 11:33:49-05:00</td>\n",
       "      <td>00:02:28</td>\n",
       "      <td>New Girl: Season 7: Mario (Episode 6)</td>\n",
       "      <td>3</td>\n",
       "      <td>11</td>\n",
       "      <td>11</td>\n",
       "      <td>2020</td>\n",
       "    </tr>\n",
       "    <tr>\n",
       "      <th>1</th>\n",
       "      <td>2020-11-05 11:11:59-05:00</td>\n",
       "      <td>00:21:47</td>\n",
       "      <td>New Girl: Season 7: Godparents (Episode 5)</td>\n",
       "      <td>3</td>\n",
       "      <td>11</td>\n",
       "      <td>11</td>\n",
       "      <td>2020</td>\n",
       "    </tr>\n",
       "    <tr>\n",
       "      <th>4</th>\n",
       "      <td>2020-11-04 04:57:40-05:00</td>\n",
       "      <td>00:21:43</td>\n",
       "      <td>New Girl: Season 7: The Curse of the Pirate Br...</td>\n",
       "      <td>2</td>\n",
       "      <td>4</td>\n",
       "      <td>11</td>\n",
       "      <td>2020</td>\n",
       "    </tr>\n",
       "    <tr>\n",
       "      <th>5</th>\n",
       "      <td>2020-11-04 04:35:53-05:00</td>\n",
       "      <td>00:21:43</td>\n",
       "      <td>New Girl: Season 7: Mario (Episode 6)</td>\n",
       "      <td>2</td>\n",
       "      <td>4</td>\n",
       "      <td>11</td>\n",
       "      <td>2020</td>\n",
       "    </tr>\n",
       "    <tr>\n",
       "      <th>6</th>\n",
       "      <td>2020-11-04 04:14:04-05:00</td>\n",
       "      <td>00:21:47</td>\n",
       "      <td>New Girl: Season 7: Godparents (Episode 5)</td>\n",
       "      <td>2</td>\n",
       "      <td>4</td>\n",
       "      <td>11</td>\n",
       "      <td>2020</td>\n",
       "    </tr>\n",
       "    <tr>\n",
       "      <th>7</th>\n",
       "      <td>2020-11-03 01:45:48-05:00</td>\n",
       "      <td>00:01:06</td>\n",
       "      <td>New Girl: Season 2: Elaine's Big Day (Episode 25)</td>\n",
       "      <td>1</td>\n",
       "      <td>1</td>\n",
       "      <td>11</td>\n",
       "      <td>2020</td>\n",
       "    </tr>\n",
       "    <tr>\n",
       "      <th>8</th>\n",
       "      <td>2020-11-03 01:23:58-05:00</td>\n",
       "      <td>00:21:44</td>\n",
       "      <td>New Girl: Season 2: Winston's Birthday (Episod...</td>\n",
       "      <td>1</td>\n",
       "      <td>1</td>\n",
       "      <td>11</td>\n",
       "      <td>2020</td>\n",
       "    </tr>\n",
       "    <tr>\n",
       "      <th>9</th>\n",
       "      <td>2020-11-01 06:24:32-05:00</td>\n",
       "      <td>00:08:43</td>\n",
       "      <td>New Girl: Season 2: Bachelorette Party (Episod...</td>\n",
       "      <td>6</td>\n",
       "      <td>6</td>\n",
       "      <td>11</td>\n",
       "      <td>2020</td>\n",
       "    </tr>\n",
       "    <tr>\n",
       "      <th>10</th>\n",
       "      <td>2020-11-01 06:02:40-05:00</td>\n",
       "      <td>00:21:41</td>\n",
       "      <td>New Girl: Season 2: First Date (Episode 21)</td>\n",
       "      <td>6</td>\n",
       "      <td>6</td>\n",
       "      <td>11</td>\n",
       "      <td>2020</td>\n",
       "    </tr>\n",
       "    <tr>\n",
       "      <th>12</th>\n",
       "      <td>2020-10-29 09:39:00-04:00</td>\n",
       "      <td>00:22:17</td>\n",
       "      <td>New Girl: Season 2: Chicago (Episode 20)</td>\n",
       "      <td>3</td>\n",
       "      <td>9</td>\n",
       "      <td>10</td>\n",
       "      <td>2020</td>\n",
       "    </tr>\n",
       "  </tbody>\n",
       "</table>\n",
       "</div>"
      ],
      "text/plain": [
       "                  Start Time Duration  \\\n",
       "0  2020-11-05 11:33:49-05:00 00:02:28   \n",
       "1  2020-11-05 11:11:59-05:00 00:21:47   \n",
       "4  2020-11-04 04:57:40-05:00 00:21:43   \n",
       "5  2020-11-04 04:35:53-05:00 00:21:43   \n",
       "6  2020-11-04 04:14:04-05:00 00:21:47   \n",
       "7  2020-11-03 01:45:48-05:00 00:01:06   \n",
       "8  2020-11-03 01:23:58-05:00 00:21:44   \n",
       "9  2020-11-01 06:24:32-05:00 00:08:43   \n",
       "10 2020-11-01 06:02:40-05:00 00:21:41   \n",
       "12 2020-10-29 09:39:00-04:00 00:22:17   \n",
       "\n",
       "                                                Title  Weekday  hour  month  \\\n",
       "0               New Girl: Season 7: Mario (Episode 6)        3    11     11   \n",
       "1          New Girl: Season 7: Godparents (Episode 5)        3    11     11   \n",
       "4   New Girl: Season 7: The Curse of the Pirate Br...        2     4     11   \n",
       "5               New Girl: Season 7: Mario (Episode 6)        2     4     11   \n",
       "6          New Girl: Season 7: Godparents (Episode 5)        2     4     11   \n",
       "7   New Girl: Season 2: Elaine's Big Day (Episode 25)        1     1     11   \n",
       "8   New Girl: Season 2: Winston's Birthday (Episod...        1     1     11   \n",
       "9   New Girl: Season 2: Bachelorette Party (Episod...        6     6     11   \n",
       "10        New Girl: Season 2: First Date (Episode 21)        6     6     11   \n",
       "12           New Girl: Season 2: Chicago (Episode 20)        3     9     10   \n",
       "\n",
       "    year  \n",
       "0   2020  \n",
       "1   2020  \n",
       "4   2020  \n",
       "5   2020  \n",
       "6   2020  \n",
       "7   2020  \n",
       "8   2020  \n",
       "9   2020  \n",
       "10  2020  \n",
       "12  2020  "
      ]
     },
     "execution_count": 13,
     "metadata": {},
     "output_type": "execute_result"
    }
   ],
   "source": [
    "my_views[:10]"
   ]
  },
  {
   "cell_type": "code",
   "execution_count": 14,
   "metadata": {},
   "outputs": [],
   "source": [
    "weekdays = {\n",
    "    1:\"Monday\",\n",
    "    2:\"Tuesday\",\n",
    "    3:\"Wednesday\",\n",
    "    4:\"Thursday\",\n",
    "    5:\"Friday\",\n",
    "    6:\"Saturday\",\n",
    "    0:\"Sunday\"\n",
    "}\n",
    "pd.reset_option('mode.chained_assignment')\n",
    "with pd.option_context('mode.chained_assignment', None):\n",
    "    my_views[\"Weekday\"] = my_views[\"Weekday\"].map(weekdays)"
   ]
  },
  {
   "cell_type": "code",
   "execution_count": 15,
   "metadata": {
    "scrolled": false
   },
   "outputs": [
    {
     "data": {
      "text/html": [
       "<div>\n",
       "<style scoped>\n",
       "    .dataframe tbody tr th:only-of-type {\n",
       "        vertical-align: middle;\n",
       "    }\n",
       "\n",
       "    .dataframe tbody tr th {\n",
       "        vertical-align: top;\n",
       "    }\n",
       "\n",
       "    .dataframe thead th {\n",
       "        text-align: right;\n",
       "    }\n",
       "</style>\n",
       "<table border=\"1\" class=\"dataframe\">\n",
       "  <thead>\n",
       "    <tr style=\"text-align: right;\">\n",
       "      <th></th>\n",
       "      <th>Start Time</th>\n",
       "      <th>Duration</th>\n",
       "      <th>Title</th>\n",
       "      <th>Weekday</th>\n",
       "      <th>hour</th>\n",
       "      <th>month</th>\n",
       "      <th>year</th>\n",
       "    </tr>\n",
       "  </thead>\n",
       "  <tbody>\n",
       "    <tr>\n",
       "      <th>0</th>\n",
       "      <td>2020-11-05 11:33:49-05:00</td>\n",
       "      <td>00:02:28</td>\n",
       "      <td>New Girl: Season 7: Mario (Episode 6)</td>\n",
       "      <td>Wednesday</td>\n",
       "      <td>11</td>\n",
       "      <td>11</td>\n",
       "      <td>2020</td>\n",
       "    </tr>\n",
       "    <tr>\n",
       "      <th>1</th>\n",
       "      <td>2020-11-05 11:11:59-05:00</td>\n",
       "      <td>00:21:47</td>\n",
       "      <td>New Girl: Season 7: Godparents (Episode 5)</td>\n",
       "      <td>Wednesday</td>\n",
       "      <td>11</td>\n",
       "      <td>11</td>\n",
       "      <td>2020</td>\n",
       "    </tr>\n",
       "    <tr>\n",
       "      <th>4</th>\n",
       "      <td>2020-11-04 04:57:40-05:00</td>\n",
       "      <td>00:21:43</td>\n",
       "      <td>New Girl: Season 7: The Curse of the Pirate Br...</td>\n",
       "      <td>Tuesday</td>\n",
       "      <td>4</td>\n",
       "      <td>11</td>\n",
       "      <td>2020</td>\n",
       "    </tr>\n",
       "    <tr>\n",
       "      <th>5</th>\n",
       "      <td>2020-11-04 04:35:53-05:00</td>\n",
       "      <td>00:21:43</td>\n",
       "      <td>New Girl: Season 7: Mario (Episode 6)</td>\n",
       "      <td>Tuesday</td>\n",
       "      <td>4</td>\n",
       "      <td>11</td>\n",
       "      <td>2020</td>\n",
       "    </tr>\n",
       "    <tr>\n",
       "      <th>6</th>\n",
       "      <td>2020-11-04 04:14:04-05:00</td>\n",
       "      <td>00:21:47</td>\n",
       "      <td>New Girl: Season 7: Godparents (Episode 5)</td>\n",
       "      <td>Tuesday</td>\n",
       "      <td>4</td>\n",
       "      <td>11</td>\n",
       "      <td>2020</td>\n",
       "    </tr>\n",
       "  </tbody>\n",
       "</table>\n",
       "</div>"
      ],
      "text/plain": [
       "                 Start Time Duration  \\\n",
       "0 2020-11-05 11:33:49-05:00 00:02:28   \n",
       "1 2020-11-05 11:11:59-05:00 00:21:47   \n",
       "4 2020-11-04 04:57:40-05:00 00:21:43   \n",
       "5 2020-11-04 04:35:53-05:00 00:21:43   \n",
       "6 2020-11-04 04:14:04-05:00 00:21:47   \n",
       "\n",
       "                                               Title    Weekday  hour  month  \\\n",
       "0              New Girl: Season 7: Mario (Episode 6)  Wednesday    11     11   \n",
       "1         New Girl: Season 7: Godparents (Episode 5)  Wednesday    11     11   \n",
       "4  New Girl: Season 7: The Curse of the Pirate Br...    Tuesday     4     11   \n",
       "5              New Girl: Season 7: Mario (Episode 6)    Tuesday     4     11   \n",
       "6         New Girl: Season 7: Godparents (Episode 5)    Tuesday     4     11   \n",
       "\n",
       "   year  \n",
       "0  2020  \n",
       "1  2020  \n",
       "4  2020  \n",
       "5  2020  \n",
       "6  2020  "
      ]
     },
     "execution_count": 15,
     "metadata": {},
     "output_type": "execute_result"
    }
   ],
   "source": [
    "my_views[:5]"
   ]
  },
  {
   "cell_type": "code",
   "execution_count": 16,
   "metadata": {},
   "outputs": [
    {
     "name": "stderr",
     "output_type": "stream",
     "text": [
      "C:\\Users\\nelso\\Anaconda3\\lib\\site-packages\\ipykernel_launcher.py:8: SettingWithCopyWarning: \n",
      "A value is trying to be set on a copy of a slice from a DataFrame.\n",
      "Try using .loc[row_indexer,col_indexer] = value instead\n",
      "\n",
      "See the caveats in the documentation: http://pandas.pydata.org/pandas-docs/stable/indexing.html#indexing-view-versus-copy\n",
      "  \n"
     ]
    },
    {
     "data": {
      "text/plain": [
       "Text(0.5, 1.0, 'New Girl episodes watched by day')"
      ]
     },
     "execution_count": 16,
     "metadata": {},
     "output_type": "execute_result"
    },
    {
     "data": {
      "image/png": "[encoded data removed]",
      "text/plain": [
       "<Figure size 720x360 with 1 Axes>"
      ]
     },
     "metadata": {},
     "output_type": "display_data"
    }
   ],
   "source": [
    "%matplotlib inline\n",
    "import matplotlib.pyplot as plt\n",
    "import matplotlib.style as style\n",
    "style.use(\"fivethirtyeight\")\n",
    "\n",
    "# set categories and order the days from Mon-Sun\n",
    "my_views[\"Weekday\"] = pd.Categorical(my_views[\"Weekday\"], categories = [\"Monday\", \"Tuesday\", \"Wednesday\", \"Thursday\", \"Friday\"\n",
    "                                                                        ,\"Saturday\",\"Sunday\"], ordered = True)\n",
    "\n",
    "# count the rows for each day of the week\n",
    "watch_by_day = my_views['Weekday'].value_counts()\n",
    "\n",
    "# sort the index using our category, so that Monday is 0, Tuesday is 2 and so on...\n",
    "watch_by_day = watch_by_day.sort_index()\n",
    "\n",
    "# optional: update the font size to make it a bit larger and easier to read\n",
    "plt.rcParams.update({'font.size': 15})\n",
    "watch_by_day.plot(kind=\"bar\", figsize=(10,5))\n",
    "plt.xlabel(\"Weekdays\")\n",
    "plt.ylabel(\"Number of time watched\")\n",
    "plt.title(\"New Girl episodes watched by day\")"
   ]
  },
  {
   "cell_type": "code",
   "execution_count": 17,
   "metadata": {},
   "outputs": [
    {
     "data": {
      "text/plain": [
       "Monday       134\n",
       "Tuesday      149\n",
       "Wednesday    177\n",
       "Thursday     146\n",
       "Friday       170\n",
       "Saturday     180\n",
       "Sunday       206\n",
       "Name: Weekday, dtype: int64"
      ]
     },
     "execution_count": 17,
     "metadata": {},
     "output_type": "execute_result"
    }
   ],
   "source": [
    "watch_by_day"
   ]
  },
  {
   "cell_type": "markdown",
   "metadata": {},
   "source": [
    "No suprise here, I was expecting Saturday and Sunday to be on top. I watch a lot of tv during the weekend. For wednesday, i'd say it just a way to relax mid_week. Now let's look at the hour of the day, the process is very similar. "
   ]
  },
  {
   "cell_type": "code",
   "execution_count": 18,
   "metadata": {},
   "outputs": [
    {
     "name": "stderr",
     "output_type": "stream",
     "text": [
      "C:\\Users\\nelso\\Anaconda3\\lib\\site-packages\\ipykernel_launcher.py:3: SettingWithCopyWarning: \n",
      "A value is trying to be set on a copy of a slice from a DataFrame.\n",
      "Try using .loc[row_indexer,col_indexer] = value instead\n",
      "\n",
      "See the caveats in the documentation: http://pandas.pydata.org/pandas-docs/stable/indexing.html#indexing-view-versus-copy\n",
      "  This is separate from the ipykernel package so we can avoid doing imports until\n"
     ]
    },
    {
     "data": {
      "text/plain": [
       "Text(0, 0.5, 'Number of episodes watched')"
      ]
     },
     "execution_count": 18,
     "metadata": {},
     "output_type": "execute_result"
    },
    {
     "data": {
      "image/png": "[encoded data removed]",
      "text/plain": [
       "<Figure size 1008x504 with 1 Axes>"
      ]
     },
     "metadata": {
      "needs_background": "light"
     },
     "output_type": "display_data"
    }
   ],
   "source": [
    "# define the order of the hours 0-23\n",
    "my_views[\"hour\"] = pd.Categorical(my_views['hour'], categories = [0,1,2,3,4,5,6,7,8,9,10,11,12,13,14,15,16,17,18,19,20,21,22,23],\n",
    "    ordered=True)\n",
    "\n",
    "# count the rows for each hour\n",
    "watch_by_hour = my_views[\"hour\"].value_counts()\n",
    "\n",
    "# sort the index, so that midnight is 0, 1am is 1 and so on...\n",
    "watch_by_hour = watch_by_hour.sort_index()\n",
    "\n",
    "# graph\n",
    "watch_by_hour.plot(kind=\"bar\", figsize=(14,7))\n",
    "plt.title(\"New Girl episodes watched by hour\")\n",
    "plt.xlabel(\"Hours\")\n",
    "plt.ylabel(\"Number of episodes watched\")"
   ]
  },
  {
   "cell_type": "markdown",
   "metadata": {},
   "source": [
    "Ok don't be too quick to judge. I always have a hard time sleeping at night and the quarantine hasn't helped that much. Watching tv late at night helps me fall asleep. I've also stayed awake all night multiple times, especially this year. \n",
    "\n",
    "We're working with dates and time, now let's answer our second question: During which month of which year I've watched New Girl the most? Remember that I started watching since 2017. We'll group our dataset per year, count the numbers of times i've watched the show per month during a given year, then visualize the result. Keep in mind that the months are written in numbers (1 for January, 2 for February and so on)"
   ]
  },
  {
   "cell_type": "code",
   "execution_count": 19,
   "metadata": {},
   "outputs": [],
   "source": [
    "my_views_2017 = my_views[my_views[\"year\"] == 2017].copy()\n",
    "my_views_2018 = my_views[my_views[\"year\"] == 2018].copy()\n",
    "my_views_2019 = my_views[my_views[\"year\"] == 2019].copy()\n",
    "my_views_2020 = my_views[my_views[\"year\"] == 2020].copy()"
   ]
  },
  {
   "cell_type": "code",
   "execution_count": 20,
   "metadata": {},
   "outputs": [
    {
     "name": "stdout",
     "output_type": "stream",
     "text": [
      "2017:\n",
      "9     23\n",
      "11    13\n",
      "12     4\n",
      "10     1\n",
      "Name: month, dtype: int64\n",
      "\n",
      "\n",
      "2018:\n",
      "12    75\n",
      "11    67\n",
      "4     56\n",
      "9     46\n",
      "3     43\n",
      "10    37\n",
      "8     28\n",
      "2     24\n",
      "6     12\n",
      "7      7\n",
      "1      5\n",
      "5      2\n",
      "Name: month, dtype: int64\n",
      "\n",
      "\n",
      "2019\n",
      "10    88\n",
      "12    55\n",
      "1     52\n",
      "11    43\n",
      "9     21\n",
      "4     17\n",
      "8     16\n",
      "2     10\n",
      "3      6\n",
      "5      4\n",
      "7      2\n",
      "6      1\n",
      "Name: month, dtype: int64\n",
      "\n",
      "\n",
      "2020\n",
      "9     72\n",
      "5     51\n",
      "1     50\n",
      "10    41\n",
      "6     41\n",
      "2     38\n",
      "8     35\n",
      "4     33\n",
      "3     23\n",
      "7     11\n",
      "11     9\n",
      "Name: month, dtype: int64\n"
     ]
    }
   ],
   "source": [
    "print(\"2017:\")\n",
    "print(my_views_2017[\"month\"].value_counts(ascending= False))\n",
    "print(\"\\n\")\n",
    "print(\"2018:\")\n",
    "print(my_views_2018[\"month\"].value_counts(ascending= False))\n",
    "print(\"\\n\")\n",
    "print(\"2019\")\n",
    "print(my_views_2019[\"month\"].value_counts(ascending= False))\n",
    "print(\"\\n\")\n",
    "print(\"2020\")\n",
    "print(my_views_2020[\"month\"].value_counts(ascending= False))"
   ]
  },
  {
   "cell_type": "markdown",
   "metadata": {},
   "source": [
    "As you can see above, I've watched New Girl the most during October 2019. Come to think of it, it was also during October 2019 that I had to stop working because of Immigration (I always have a reason lol), so I had plenty of time. I was expecting it'd be a month in 2020 because of quarantine but looks like I was mistaken, but looking at the result above I'm sure I've watched this show the most during 2020. Let's find out"
   ]
  },
  {
   "cell_type": "code",
   "execution_count": 21,
   "metadata": {},
   "outputs": [
    {
     "data": {
      "text/plain": [
       "2020    404\n",
       "2018    402\n",
       "2019    315\n",
       "2017     41\n",
       "Name: year, dtype: int64"
      ]
     },
     "execution_count": 21,
     "metadata": {},
     "output_type": "execute_result"
    }
   ],
   "source": [
    "my_views[\"year\"].value_counts()"
   ]
  },
  {
   "cell_type": "markdown",
   "metadata": {},
   "source": [
    "Well I knew 2020 would come on top but I wasn't expecting 2018 to be so close with the number of streaming this tv show. Even more surprising is the fact that earlier we found out that it was in October 2019 that I've watched this show the most but overall the number streaming of declined considerably compare to 2018 and 2020."
   ]
  },
  {
   "cell_type": "code",
   "execution_count": 22,
   "metadata": {},
   "outputs": [
    {
     "data": {
      "text/plain": [
       "2020    34.77\n",
       "2018    34.60\n",
       "2019    27.11\n",
       "2017     3.53\n",
       "Name: year, dtype: float64"
      ]
     },
     "execution_count": 22,
     "metadata": {},
     "output_type": "execute_result"
    }
   ],
   "source": [
    "round(my_views[\"year\"].value_counts(ascending=False, normalize=True) * 100, 2)"
   ]
  },
  {
   "cell_type": "markdown",
   "metadata": {},
   "source": [
    "You can tell there was a 7% decline in streaming in 2019, but I picked it up again with another 7% increase in streaming in 2020. The year 207 is so low because as I said earlier, I started watching the show in September 2017, so there isn't a lot of data for that year. Also, as I'm doing this analysis, the year 2020 is not over yet, which means the number of streaming could go up a little. "
   ]
  },
  {
   "cell_type": "code",
   "execution_count": 23,
   "metadata": {},
   "outputs": [
    {
     "data": {
      "image/png": "[encoded data removed]",
      "text/plain": [
       "<Figure size 432x288 with 1 Axes>"
      ]
     },
     "metadata": {
      "needs_background": "light"
     },
     "output_type": "display_data"
    },
    {
     "data": {
      "image/png": "[encoded data removed]",
      "text/plain": [
       "<Figure size 432x288 with 1 Axes>"
      ]
     },
     "metadata": {
      "needs_background": "light"
     },
     "output_type": "display_data"
    },
    {
     "data": {
      "image/png": "[encoded data removed]",
      "text/plain": [
       "<Figure size 432x288 with 1 Axes>"
      ]
     },
     "metadata": {
      "needs_background": "light"
     },
     "output_type": "display_data"
    },
    {
     "data": {
      "image/png": "[encoded data removed]",
      "text/plain": [
       "<Figure size 432x288 with 1 Axes>"
      ]
     },
     "metadata": {
      "needs_background": "light"
     },
     "output_type": "display_data"
    }
   ],
   "source": [
    "fig1 = plt.figure(1)\n",
    "my_views_2017[\"month\"].value_counts().sort_index().plot(kind=\"bar\", label = \"2017\")\n",
    "plt.xlabel(\"Months\")\n",
    "plt.ylabel(\"Number of episodes watched\")\n",
    "plt.legend()\n",
    "\n",
    "fig2 = plt.figure(2)\n",
    "my_views_2018[\"month\"].value_counts().sort_index().plot(kind=\"bar\", label = \"2018\")\n",
    "plt.xlabel(\"Months\")\n",
    "plt.ylabel(\"Number of episodes watched\")\n",
    "plt.legend()\n",
    "\n",
    "fig3 = plt.figure(3)\n",
    "my_views_2019[\"month\"].value_counts().sort_index().plot(kind=\"bar\", label = \"2019\")\n",
    "plt.xlabel(\"Months\")\n",
    "plt.ylabel(\"Number of episodes watched\")\n",
    "plt.legend()\n",
    "\n",
    "fig4 = plt.figure(4)\n",
    "my_views_2020[\"month\"].value_counts().sort_index().plot(kind=\"bar\", label = \"2020\")\n",
    "plt.xlabel(\"Months\")\n",
    "plt.ylabel(\"Number of episodes watched\")\n",
    "plt.legend()\n",
    "\n",
    "plt.show()"
   ]
  },
  {
   "cell_type": "markdown",
   "metadata": {},
   "source": [
    "We've answered the first two questions of our analysis. So far, we know that I've spent a total of 12 days, 19hrs watching New Girl. October 2019 was the month I streamed this show the most on Netflix. Now let's find out which episode I've watched the most."
   ]
  },
  {
   "cell_type": "code",
   "execution_count": 24,
   "metadata": {},
   "outputs": [
    {
     "data": {
      "text/plain": [
       "New Girl: Season 3: Cruise (Episode 23)                          25\n",
       "New Girl: Season 4: The Last Wedding (Episode 1)                 17\n",
       "New Girl: Season 4: Julie Berkman's Older Sister (Episode 3)     17\n",
       "New Girl: Season 1: Cece Crashes (Episode 5)                     17\n",
       "New Girl: Season 4: Thanksgiving IV (Episode 9)                  16\n",
       "New Girl: Season 2: Re-Launch (Episode 1)                        16\n",
       "New Girl: Season 1: Tomatoes (Episode 22)                        16\n",
       "New Girl: Season 4: Goldmine (Episode 7)                         14\n",
       "New Girl: Season 3: Prince (Episode 14)                          14\n",
       "New Girl: Season 4: Micro (Episode 4)                            14\n",
       "New Girl: Season 6: Socalyalcon VI (Episode 19)                  13\n",
       "New Girl: Season 1: Normal (Episode 20)                          13\n",
       "New Girl: Season 4: Teachers (Episode 8)                         13\n",
       "New Girl: Season 4: Dice (Episode 2)                             13\n",
       "New Girl: Season 2: Bathtub (Episode 10)                         13\n",
       "New Girl: Season 3: Big News (Episode 21)                        13\n",
       "New Girl: Season 5: No Girl (Episode 4)                          13\n",
       "New Girl: Season 4: Background Check (Episode 6)                 12\n",
       "New Girl: Season 3: Menus (Episode 8)                            12\n",
       "New Girl: Season 6: Raisin's Back (Episode 11)                   12\n",
       "New Girl: Season 4: Landline (Episode 5)                         12\n",
       "New Girl: Season 1: Injured (Episode 15)                         12\n",
       "New Girl: Season 3: Sister II (Episode 17)                       12\n",
       "New Girl: Season 5: Goosebumps Walkaway (Episode 10)             12\n",
       "New Girl: Season 1: Thanksgiving (Episode 6)                     11\n",
       "New Girl: Season 2: Menzies (Episode 7)                          11\n",
       "New Girl: Season 1: Backslide (Episode 23)                       11\n",
       "New Girl: Season 5: Bob & Carol & Nick & Schmidt (Episode 5)     11\n",
       "New Girl: Season 2: Cooler (Episode 15)                          11\n",
       "New Girl: Season 1: Control (Episode 16)                         11\n",
       "                                                                 ..\n",
       "New Girl: Season 6: The Cubicle (Episode 12)                      5\n",
       "New Girl: Season 7: Mario (Episode 6)                             5\n",
       "New Girl: Season 1: Wedding (Episode 3)                           5\n",
       "New Girl: Season 2: Virgins (Episode 23)                          5\n",
       "New Girl: Season 2: Halloween (Episode 6)                         5\n",
       "New Girl: Season 4: Shark (Episode 12)                            5\n",
       "New Girl: Season 1: The Landlord (Episode 12)                     5\n",
       "New Girl: Season 1: Bells (Episode 7)                             5\n",
       "New Girl: Season 3: Keaton (Episode 6)                            4\n",
       "New Girl: Season 5: Jeff Day (Episode 15)                         4\n",
       "New Girl: Season 5: What About Fred (Episode 2)                   4\n",
       "New Girl: Season 2: Cabin (Episode 12)                            4\n",
       "New Girl: Season 7: The Curse of the Pirate Bride (Episode 7)     4\n",
       "New Girl: Season 6: Misery (Episode 20)                           4\n",
       "New Girl: Season 6: House Hunt (Episode 1)                        4\n",
       "New Girl: Season 6: Five Stars for Beezus (Episode 22)            4\n",
       "New Girl: Season 5: Wedding Eve (Episode 21)                      4\n",
       "New Girl: Season 5: Landing Gear (Episode 22)                     4\n",
       "New Girl: Season 7: Lillypads (Episode 3)                         3\n",
       "New Girl: Season 4: Clean Break (Episode 22)                      3\n",
       "New Girl: Season 7: About Three Years Later (Episode 1)           3\n",
       "New Girl: Season 7: Where the Road Goes (Episode 4)               3\n",
       "New Girl: Season 5: Dress (Episode 19)                            3\n",
       "New Girl: Season 5: Road Trip (Episode 17)                        3\n",
       "New Girl: Season 6: San Diego (Episode 21)                        3\n",
       "New Girl: Season 5: Return to Sender (Episode 20)                 3\n",
       "New Girl: Season 7: Engram Pattersky (Episode 8)                  2\n",
       "New Girl: Season 5: Helmet (Episode 16)                           2\n",
       "New Girl: Season 5: A Chill Day In (Episode 18)                   2\n",
       "New Girl: Season 2: A Father's Love (Episode 13)                  1\n",
       "Name: Title, Length: 146, dtype: int64"
      ]
     },
     "execution_count": 24,
     "metadata": {},
     "output_type": "execute_result"
    }
   ],
   "source": [
    "my_views[\"Title\"].value_counts(ascending=False)"
   ]
  },
  {
   "cell_type": "markdown",
   "metadata": {},
   "source": [
    "I didn't know what to expect but I can't say I'm surprised. The episode titled \"Cruise\" is the season 3 finale and I find it funny, and the second most watched episode is named \"The Last Wedding\" is also a funny one, and it is the Season 4 premiere. So if I've watched season 3 finale the most, chances are I just went straight into the next one which is Season 4 premiere and that's probably why it is high on the list of the most watched episodes. \n",
    "\n",
    "### Most watched season\n",
    "\n",
    "I know we've reached our goal and answered all the questions we had in the introduction but I also wanted to find out which season I've watched the most."
   ]
  },
  {
   "cell_type": "code",
   "execution_count": 25,
   "metadata": {},
   "outputs": [
    {
     "name": "stderr",
     "output_type": "stream",
     "text": [
      "C:\\Users\\nelso\\Anaconda3\\lib\\site-packages\\ipykernel_launcher.py:2: SettingWithCopyWarning: \n",
      "A value is trying to be set on a copy of a slice from a DataFrame.\n",
      "Try using .loc[row_indexer,col_indexer] = value instead\n",
      "\n",
      "See the caveats in the documentation: http://pandas.pydata.org/pandas-docs/stable/indexing.html#indexing-view-versus-copy\n",
      "  \n"
     ]
    },
    {
     "data": {
      "text/html": [
       "<div>\n",
       "<style scoped>\n",
       "    .dataframe tbody tr th:only-of-type {\n",
       "        vertical-align: middle;\n",
       "    }\n",
       "\n",
       "    .dataframe tbody tr th {\n",
       "        vertical-align: top;\n",
       "    }\n",
       "\n",
       "    .dataframe thead th {\n",
       "        text-align: right;\n",
       "    }\n",
       "</style>\n",
       "<table border=\"1\" class=\"dataframe\">\n",
       "  <thead>\n",
       "    <tr style=\"text-align: right;\">\n",
       "      <th></th>\n",
       "      <th>Start Time</th>\n",
       "      <th>Duration</th>\n",
       "      <th>Title</th>\n",
       "      <th>Weekday</th>\n",
       "      <th>hour</th>\n",
       "      <th>month</th>\n",
       "      <th>year</th>\n",
       "      <th>season</th>\n",
       "    </tr>\n",
       "  </thead>\n",
       "  <tbody>\n",
       "    <tr>\n",
       "      <th>0</th>\n",
       "      <td>2020-11-05 11:33:49-05:00</td>\n",
       "      <td>00:02:28</td>\n",
       "      <td>New Girl: Season 7: Mario (Episode 6)</td>\n",
       "      <td>Wednesday</td>\n",
       "      <td>11</td>\n",
       "      <td>11</td>\n",
       "      <td>2020</td>\n",
       "      <td>Season 7</td>\n",
       "    </tr>\n",
       "    <tr>\n",
       "      <th>1</th>\n",
       "      <td>2020-11-05 11:11:59-05:00</td>\n",
       "      <td>00:21:47</td>\n",
       "      <td>New Girl: Season 7: Godparents (Episode 5)</td>\n",
       "      <td>Wednesday</td>\n",
       "      <td>11</td>\n",
       "      <td>11</td>\n",
       "      <td>2020</td>\n",
       "      <td>Season 7</td>\n",
       "    </tr>\n",
       "    <tr>\n",
       "      <th>4</th>\n",
       "      <td>2020-11-04 04:57:40-05:00</td>\n",
       "      <td>00:21:43</td>\n",
       "      <td>New Girl: Season 7: The Curse of the Pirate Br...</td>\n",
       "      <td>Tuesday</td>\n",
       "      <td>4</td>\n",
       "      <td>11</td>\n",
       "      <td>2020</td>\n",
       "      <td>Season 7</td>\n",
       "    </tr>\n",
       "    <tr>\n",
       "      <th>5</th>\n",
       "      <td>2020-11-04 04:35:53-05:00</td>\n",
       "      <td>00:21:43</td>\n",
       "      <td>New Girl: Season 7: Mario (Episode 6)</td>\n",
       "      <td>Tuesday</td>\n",
       "      <td>4</td>\n",
       "      <td>11</td>\n",
       "      <td>2020</td>\n",
       "      <td>Season 7</td>\n",
       "    </tr>\n",
       "    <tr>\n",
       "      <th>6</th>\n",
       "      <td>2020-11-04 04:14:04-05:00</td>\n",
       "      <td>00:21:47</td>\n",
       "      <td>New Girl: Season 7: Godparents (Episode 5)</td>\n",
       "      <td>Tuesday</td>\n",
       "      <td>4</td>\n",
       "      <td>11</td>\n",
       "      <td>2020</td>\n",
       "      <td>Season 7</td>\n",
       "    </tr>\n",
       "    <tr>\n",
       "      <th>7</th>\n",
       "      <td>2020-11-03 01:45:48-05:00</td>\n",
       "      <td>00:01:06</td>\n",
       "      <td>New Girl: Season 2: Elaine's Big Day (Episode 25)</td>\n",
       "      <td>Monday</td>\n",
       "      <td>1</td>\n",
       "      <td>11</td>\n",
       "      <td>2020</td>\n",
       "      <td>Season 2</td>\n",
       "    </tr>\n",
       "    <tr>\n",
       "      <th>8</th>\n",
       "      <td>2020-11-03 01:23:58-05:00</td>\n",
       "      <td>00:21:44</td>\n",
       "      <td>New Girl: Season 2: Winston's Birthday (Episod...</td>\n",
       "      <td>Monday</td>\n",
       "      <td>1</td>\n",
       "      <td>11</td>\n",
       "      <td>2020</td>\n",
       "      <td>Season 2</td>\n",
       "    </tr>\n",
       "    <tr>\n",
       "      <th>9</th>\n",
       "      <td>2020-11-01 06:24:32-05:00</td>\n",
       "      <td>00:08:43</td>\n",
       "      <td>New Girl: Season 2: Bachelorette Party (Episod...</td>\n",
       "      <td>Saturday</td>\n",
       "      <td>6</td>\n",
       "      <td>11</td>\n",
       "      <td>2020</td>\n",
       "      <td>Season 2</td>\n",
       "    </tr>\n",
       "    <tr>\n",
       "      <th>10</th>\n",
       "      <td>2020-11-01 06:02:40-05:00</td>\n",
       "      <td>00:21:41</td>\n",
       "      <td>New Girl: Season 2: First Date (Episode 21)</td>\n",
       "      <td>Saturday</td>\n",
       "      <td>6</td>\n",
       "      <td>11</td>\n",
       "      <td>2020</td>\n",
       "      <td>Season 2</td>\n",
       "    </tr>\n",
       "    <tr>\n",
       "      <th>12</th>\n",
       "      <td>2020-10-29 09:39:00-04:00</td>\n",
       "      <td>00:22:17</td>\n",
       "      <td>New Girl: Season 2: Chicago (Episode 20)</td>\n",
       "      <td>Wednesday</td>\n",
       "      <td>9</td>\n",
       "      <td>10</td>\n",
       "      <td>2020</td>\n",
       "      <td>Season 2</td>\n",
       "    </tr>\n",
       "  </tbody>\n",
       "</table>\n",
       "</div>"
      ],
      "text/plain": [
       "                  Start Time Duration  \\\n",
       "0  2020-11-05 11:33:49-05:00 00:02:28   \n",
       "1  2020-11-05 11:11:59-05:00 00:21:47   \n",
       "4  2020-11-04 04:57:40-05:00 00:21:43   \n",
       "5  2020-11-04 04:35:53-05:00 00:21:43   \n",
       "6  2020-11-04 04:14:04-05:00 00:21:47   \n",
       "7  2020-11-03 01:45:48-05:00 00:01:06   \n",
       "8  2020-11-03 01:23:58-05:00 00:21:44   \n",
       "9  2020-11-01 06:24:32-05:00 00:08:43   \n",
       "10 2020-11-01 06:02:40-05:00 00:21:41   \n",
       "12 2020-10-29 09:39:00-04:00 00:22:17   \n",
       "\n",
       "                                                Title    Weekday hour  month  \\\n",
       "0               New Girl: Season 7: Mario (Episode 6)  Wednesday   11     11   \n",
       "1          New Girl: Season 7: Godparents (Episode 5)  Wednesday   11     11   \n",
       "4   New Girl: Season 7: The Curse of the Pirate Br...    Tuesday    4     11   \n",
       "5               New Girl: Season 7: Mario (Episode 6)    Tuesday    4     11   \n",
       "6          New Girl: Season 7: Godparents (Episode 5)    Tuesday    4     11   \n",
       "7   New Girl: Season 2: Elaine's Big Day (Episode 25)     Monday    1     11   \n",
       "8   New Girl: Season 2: Winston's Birthday (Episod...     Monday    1     11   \n",
       "9   New Girl: Season 2: Bachelorette Party (Episod...   Saturday    6     11   \n",
       "10        New Girl: Season 2: First Date (Episode 21)   Saturday    6     11   \n",
       "12           New Girl: Season 2: Chicago (Episode 20)  Wednesday    9     10   \n",
       "\n",
       "    year     season  \n",
       "0   2020   Season 7  \n",
       "1   2020   Season 7  \n",
       "4   2020   Season 7  \n",
       "5   2020   Season 7  \n",
       "6   2020   Season 7  \n",
       "7   2020   Season 2  \n",
       "8   2020   Season 2  \n",
       "9   2020   Season 2  \n",
       "10  2020   Season 2  \n",
       "12  2020   Season 2  "
      ]
     },
     "execution_count": 25,
     "metadata": {},
     "output_type": "execute_result"
    }
   ],
   "source": [
    "# split the string title and extract the second values in the list\n",
    "my_views[\"season\"] = my_views[\"Title\"].str.split(\":\", expand = True)[1] \n",
    "my_views.head(10)"
   ]
  },
  {
   "cell_type": "code",
   "execution_count": null,
   "metadata": {},
   "outputs": [
    {
     "name": "stdout",
     "output_type": "stream",
     "text": [
      " Season 4    219\n",
      " Season 1    212\n",
      " Season 3    205\n",
      " Season 2    195\n",
      " Season 6    152\n",
      " Season 5    143\n",
      " Season 7     36\n",
      "Name: season, dtype: int64\n"
     ]
    },
    {
     "data": {
      "image/png": "[encoded data removed]",
      "text/plain": [
       "<Figure size 432x288 with 1 Axes>"
      ]
     },
     "metadata": {
      "needs_background": "light"
     },
     "output_type": "display_data"
    }
   ],
   "source": [
    "print(my_views[\"season\"].value_counts())\n",
    "my_views[\"season\"].value_counts().sort_index().plot(kind = \"bar\")\n",
    "plt.xlabel(\"Season\")\n",
    "plt.ylabel(\"Total count of episodes watched during that season\")\n",
    "plt.title(\"New Girl Most wacthed season\")\n",
    "plt.show()"
   ]
  },
  {
   "cell_type": "markdown",
   "metadata": {},
   "source": [
    "Season 4 of New Girl is the season I've watched the most. The reason I think is because one of my favorite character in the show makes a return and I like seeing all the cast together during that season. Season 7 comes last because I didn't really like it and it only has 7 episodes. "
   ]
  },
  {
   "cell_type": "markdown",
   "metadata": {},
   "source": [
    "### Conclusion\n",
    "\n",
    "We went into my Netflix account and analyzed New Girl, a tv show I've streamed the most in Netflix (movies and tv shows combined) between September 2017 and October 2020. Keep in mind that we removed anything that streamed for less than 1 minutes. If we kept streams that lasted less than 1 min, the result would  have been different. \n",
    "\n",
    "##### We had 3 goals:\n",
    "\n",
    " * How much time I have spent watching New Girl between 2017-2020.\n",
    " * During which month of which year I've watched New Girl the most(It'll probably be between March and August 2020, covid-19 quarantine).\n",
    " * Which episode I've watched the most?\n",
    " \n",
    "#####  Answers:\n",
    "\n",
    " 1. I've spent 12 days, 19hrs, 20minutes watching this show. I was expecting more but a little bit relieved that I'm not obsessed as I thought I was.\n",
    " 2. October 2019 is the month during which I've streamed this show the most\n",
    " 3. Season 3 : Episode 23 \"Cruise\" is the episode I've watched the most. Season 4 is the most wacthed season of this show."
   ]
  },
  {
   "cell_type": "code",
   "execution_count": null,
   "metadata": {},
   "outputs": [],
   "source": []
  }
 ],
 "metadata": {
  "kernelspec": {
   "display_name": "Python 3",
   "language": "python",
   "name": "python3"
  },
  "language_info": {
   "codemirror_mode": {
    "name": "ipython",
    "version": 3
   },
   "file_extension": ".py",
   "mimetype": "text/x-python",
   "name": "python",
   "nbconvert_exporter": "python",
   "pygments_lexer": "ipython3",
   "version": "3.7.3"
  }
 },
 "nbformat": 4,
 "nbformat_minor": 2
}
